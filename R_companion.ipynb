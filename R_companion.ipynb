{
  "nbformat": 4,
  "nbformat_minor": 0,
  "metadata": {
    "colab": {
      "name": "R_companion",
      "provenance": [],
      "collapsed_sections": [],
      "authorship_tag": "ABX9TyMLVZPgyoO3eEeX6gtbwYaG",
      "include_colab_link": true
    },
    "kernelspec": {
      "name": "ir",
      "display_name": "R"
    }
  },
  "cells": [
    {
      "cell_type": "markdown",
      "metadata": {
        "id": "view-in-github",
        "colab_type": "text"
      },
      "source": [
        "<a href=\"https://colab.research.google.com/github/prat8897/R_companion/blob/main/R_companion.ipynb\" target=\"_parent\"><img src=\"https://colab.research.google.com/assets/colab-badge.svg\" alt=\"Open In Colab\"/></a>"
      ]
    },
    {
      "cell_type": "code",
      "metadata": {
        "id": "tc8ZMtGyEk6Z",
        "outputId": "d0efc400-47ff-4c81-89db-97503386497d",
        "colab": {
          "base_uri": "https://localhost:8080/",
          "height": 272
        }
      },
      "source": [
        "R.version"
      ],
      "execution_count": 1,
      "outputs": [
        {
          "output_type": "display_data",
          "data": {
            "text/plain": [
              "               _                           \n",
              "platform       x86_64-pc-linux-gnu         \n",
              "arch           x86_64                      \n",
              "os             linux-gnu                   \n",
              "system         x86_64, linux-gnu           \n",
              "status                                     \n",
              "major          4                           \n",
              "minor          0.3                         \n",
              "year           2020                        \n",
              "month          10                          \n",
              "day            10                          \n",
              "svn rev        79318                       \n",
              "language       R                           \n",
              "version.string R version 4.0.3 (2020-10-10)\n",
              "nickname       Bunny-Wunnies Freak Out     "
            ]
          },
          "metadata": {
            "tags": []
          }
        }
      ]
    },
    {
      "cell_type": "markdown",
      "metadata": {
        "id": "qeF_0PV2GOY2"
      },
      "source": [
        "#Preface\n",
        "\n",
        "This document contains hands-on examples using R code to illustrate the methods discussed in the Bayesian networks course. Thre is usually one chapter here per lecture, but not all lectures have code examples.\n",
        "\n",
        "This course does not cover the R programming language itself, but we try to be gentle and explain a few things as we go along. There are many excellent resources online for learning R."
      ]
    },
    {
      "cell_type": "markdown",
      "metadata": {
        "id": "xBen0q8LGVm-"
      },
      "source": [
        "#Naive and Optimal Bayesian Prediction\n",
        "\n",
        "This vignette contains R code for performing prediction with Naive Bayes and logistic regression classifiers for an example from the lecture.\n",
        "\n",
        "Learning objectives:\n",
        "* Become acquainted with the R platform\n",
        "* Be able to perform simple classification tasks on discrete data\n",
        "* Understand the difference between logistic regression and Naive Bayes\n",
        "\n",
        "Please read the following vignette and make sure that you can run the code on your own computer. You will first need to have R or RStudio installed."
      ]
    },
    {
      "cell_type": "markdown",
      "metadata": {
        "id": "K-6YuJV1GnFm"
      },
      "source": [
        "##Installing the R package for this course\n",
        "\n",
        "We first need to install the Bayesian Networks R package from github. If you have not done this yet, uncomment the first two lines in the code block below (by removing the hash mark) and then run them. This should first install the “devtools” package, and then install the “bayesianNetworks” package from github.\n",
        "\n",
        "During the course, this package may change and be upgraded, so it may be a good idea to install it regularly."
      ]
    },
    {
      "cell_type": "code",
      "metadata": {
        "id": "TPwWvDP8Ffl3",
        "outputId": "f17caef8-85e2-4dc3-e64c-c9734cfae05f",
        "colab": {
          "base_uri": "https://localhost:8080/"
        }
      },
      "source": [
        "install.packages(c(\"remotes\",\"pROC\",\"naivebayes\"))\n",
        "remotes::install_github(\"jtextor/bayesianNetworks\")\n",
        "\n",
        "library( bayesianNetworks )"
      ],
      "execution_count": 2,
      "outputs": [
        {
          "output_type": "stream",
          "text": [
            "Installing packages into ‘/usr/local/lib/R/site-library’\n",
            "(as ‘lib’ is unspecified)\n",
            "\n",
            "also installing the dependency ‘plyr’\n",
            "\n",
            "\n",
            "Downloading GitHub repo jtextor/bayesianNetworks@HEAD\n",
            "\n"
          ],
          "name": "stderr"
        },
        {
          "output_type": "stream",
          "text": [
            "\u001b[32m✔\u001b[39m  \u001b[90mchecking for file ‘/tmp/RtmpJ1QJn3/remotes646efb2749/jtextor-bayesianNetworks-bd3d8e0/DESCRIPTION’\u001b[39m\u001b[36m\u001b[39m\n",
            "\u001b[90m─\u001b[39m\u001b[90m  \u001b[39m\u001b[90mpreparing ‘bayesianNetworks’:\u001b[39m\u001b[36m\u001b[39m\n",
            "\u001b[32m✔\u001b[39m  \u001b[90mchecking DESCRIPTION meta-information\u001b[39m\u001b[36m\u001b[39m\n",
            "\u001b[90m─\u001b[39m\u001b[90m  \u001b[39m\u001b[90mchecking for LF line-endings in source and make files and shell scripts\u001b[39m\u001b[36m\u001b[39m\n",
            "\u001b[90m─\u001b[39m\u001b[90m  \u001b[39m\u001b[90mchecking for empty or unneeded directories\u001b[39m\u001b[36m\u001b[39m\n",
            "\u001b[90m─\u001b[39m\u001b[90m  \u001b[39m\u001b[90mbuilding ‘bayesianNetworks_0.0.0.9000.tar.gz’\u001b[39m\u001b[36m\u001b[39m\n",
            "   \n"
          ],
          "name": "stdout"
        },
        {
          "output_type": "stream",
          "text": [
            "Installing package into ‘/usr/local/lib/R/site-library’\n",
            "(as ‘lib’ is unspecified)\n",
            "\n"
          ],
          "name": "stderr"
        }
      ]
    },
    {
      "cell_type": "markdown",
      "metadata": {
        "id": "rMksdTGOGyM9"
      },
      "source": [
        "Note: if installing the “bayesianNetworks” package above does not work for you, perhaps because your version of R is too old to install the “remotes” package that this also requires, then instead you can also use the line below to directly include the functions defined in that package.\n",
        "\n",
        "```\n",
        "# source(\"https://raw.githubusercontent.com/jtextor/bayesianNetworks/master/R/functions.R\")\n",
        "```"
      ]
    },
    {
      "cell_type": "markdown",
      "metadata": {
        "id": "BXzsHQhfG8Io"
      },
      "source": [
        "##Generating some artificial data to work with\n",
        "\n",
        "Now we simulate some data from the “Sprinkler” example in the lecture notes to train a classifier on. Separately we will also generate a test set to evaluate our classifier. Here I also seed the random number generator so that you hopefully get exactly the same output as I do."
      ]
    },
    {
      "cell_type": "code",
      "metadata": {
        "id": "qaZRZIEqFoM8"
      },
      "source": [
        "set.seed(123)\n",
        "training.data <- simulate_sprinkler( 500 )\n",
        "test.data <- simulate_sprinkler( 1000 )"
      ],
      "execution_count": 3,
      "outputs": []
    },
    {
      "cell_type": "markdown",
      "metadata": {
        "id": "cTiBw0fCHEXd"
      },
      "source": [
        "Let us see how the training data looks like. The below line generates a table similar to the ones we saw in the lecture by counting the amount of datapoints for each category."
      ]
    },
    {
      "cell_type": "code",
      "metadata": {
        "id": "LMFqHNF_F8R4",
        "outputId": "e60eb570-4b9c-4be1-e566-fb07b76c7f34",
        "colab": {
          "base_uri": "https://localhost:8080/"
        }
      },
      "source": [
        "print( ftable(training.data, row.vars=1:4) )"
      ],
      "execution_count": 4,
      "outputs": [
        {
          "output_type": "stream",
          "text": [
            "WetGrass Rain  Sprinkler Cloudy     \n",
            "FALSE    FALSE FALSE     FALSE   102\n",
            "                         TRUE     43\n",
            "               TRUE      FALSE    13\n",
            "                         TRUE      0\n",
            "         TRUE  FALSE     FALSE     3\n",
            "                         TRUE     14\n",
            "               TRUE      FALSE     1\n",
            "                         TRUE      0\n",
            "TRUE     FALSE FALSE     FALSE     1\n",
            "                         TRUE      0\n",
            "               TRUE      FALSE    87\n",
            "                         TRUE      7\n",
            "         TRUE  FALSE     FALSE    16\n",
            "                         TRUE    170\n",
            "               TRUE      FALSE    23\n",
            "                         TRUE     20\n"
          ],
          "name": "stdout"
        }
      ]
    },
    {
      "cell_type": "markdown",
      "metadata": {
        "id": "XiYTnlxWHLRp"
      },
      "source": [
        "##Using logistic regression to predict whether the grass is wet\n",
        "\n",
        "![Screenshot 2020-11-04 at 08.22.29.png](data:image/png;base64,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)\n",
        "\n",
        "Prediction in R is always done in two steps. First, we fit a prediction model to a training dataset. For example, the below line fits a logistic regression model. Here `glm` stands for a generalized linear model, and we are using the binomial linkage function."
      ]
    },
    {
      "cell_type": "code",
      "metadata": {
        "id": "KB1qgyGYGB7j"
      },
      "source": [
        "m <- glm( WetGrass ~ Cloudy + Rain + Sprinkler, data=training.data, family=\"binomial\" )"
      ],
      "execution_count": 5,
      "outputs": []
    },
    {
      "cell_type": "markdown",
      "metadata": {
        "id": "3glgzTizHdCn"
      },
      "source": [
        "We can look at this model to get some information about the fit, such as the values of the coefficients."
      ]
    },
    {
      "cell_type": "code",
      "metadata": {
        "id": "SgIB4Bv3HbbU",
        "outputId": "7a5e30b0-11b7-43f1-a22e-7185894895dd",
        "colab": {
          "base_uri": "https://localhost:8080/",
          "height": 442
        }
      },
      "source": [
        "summary(m)"
      ],
      "execution_count": 6,
      "outputs": [
        {
          "output_type": "display_data",
          "data": {
            "text/plain": [
              "\n",
              "Call:\n",
              "glm(formula = WetGrass ~ Cloudy + Rain + Sprinkler, family = \"binomial\", \n",
              "    data = training.data)\n",
              "\n",
              "Deviance Residuals: \n",
              "    Min       1Q   Median       3Q      Max  \n",
              "-4.0067  -0.1380   0.4066   0.4066   3.0523  \n",
              "\n",
              "Coefficients:\n",
              "              Estimate Std. Error z value Pr(>|z|)    \n",
              "(Intercept)    -4.6488     0.7675  -6.057 1.39e-09 ***\n",
              "CloudyTRUE      0.9242     0.5614   1.646   0.0997 .  \n",
              "RainTRUE        6.1758     0.7759   7.960 1.73e-15 ***\n",
              "SprinklerTRUE   6.4995     0.8129   7.995 1.29e-15 ***\n",
              "---\n",
              "Signif. codes:  0 ‘***’ 0.001 ‘**’ 0.01 ‘*’ 0.05 ‘.’ 0.1 ‘ ’ 1\n",
              "\n",
              "(Dispersion parameter for binomial family taken to be 1)\n",
              "\n",
              "    Null deviance: 648.68  on 499  degrees of freedom\n",
              "Residual deviance: 223.23  on 496  degrees of freedom\n",
              "AIC: 231.23\n",
              "\n",
              "Number of Fisher Scoring iterations: 7\n"
            ]
          },
          "metadata": {
            "tags": []
          }
        }
      ]
    },
    {
      "cell_type": "markdown",
      "metadata": {
        "id": "I3uehy6vIQW6"
      },
      "source": [
        "Let us now check how well this prediction model represents the training data. For this we need to use the R function `predict`, which will give us the probability that the grass is wet for each observation in a dataset."
      ]
    },
    {
      "cell_type": "code",
      "metadata": {
        "id": "7x9ZkuEsHe6P"
      },
      "source": [
        "y <- predict( m, newdata=training.data, type=\"response\" )"
      ],
      "execution_count": 7,
      "outputs": []
    },
    {
      "cell_type": "markdown",
      "metadata": {
        "id": "ER16T-SRJH54"
      },
      "source": [
        "We now determine the quality of this fit using the Area Under the Curve metric. This requires using the\n",
        "`pROC` package, which provides methods for computing the AUC . . ."
      ]
    },
    {
      "cell_type": "code",
      "metadata": {
        "id": "HXtMTc9OJDj7",
        "outputId": "d173a2fa-3635-4e5b-affe-89883f092a23",
        "colab": {
          "base_uri": "https://localhost:8080/"
        }
      },
      "source": [
        "library( pROC )"
      ],
      "execution_count": 8,
      "outputs": [
        {
          "output_type": "stream",
          "text": [
            "Type 'citation(\"pROC\")' for a citation.\n",
            "\n",
            "\n",
            "Attaching package: ‘pROC’\n",
            "\n",
            "\n",
            "The following objects are masked from ‘package:stats’:\n",
            "\n",
            "    cov, smooth, var\n",
            "\n",
            "\n"
          ],
          "name": "stderr"
        }
      ]
    },
    {
      "cell_type": "code",
      "metadata": {
        "id": "Nyx7bOUDJNPh",
        "outputId": "9ec3db2a-ab4f-45b3-feb4-8436100a15a9",
        "colab": {
          "base_uri": "https://localhost:8080/",
          "height": 102
        }
      },
      "source": [
        "auc( training.data$WetGrass, y )"
      ],
      "execution_count": 9,
      "outputs": [
        {
          "output_type": "stream",
          "text": [
            "Setting levels: control = FALSE, case = TRUE\n",
            "\n",
            "Setting direction: controls < cases\n",
            "\n"
          ],
          "name": "stderr"
        },
        {
          "output_type": "display_data",
          "data": {
            "text/plain": [
              "Area under the curve: 0.9326"
            ],
            "text/latex": "0.932554713804714",
            "text/markdown": "0.932554713804714",
            "text/html": [
              "0.932554713804714"
            ]
          },
          "metadata": {
            "tags": []
          }
        }
      ]
    },
    {
      "cell_type": "markdown",
      "metadata": {
        "id": "DufKiuerJWqX"
      },
      "source": [
        "... and plotting ROC curves."
      ]
    },
    {
      "cell_type": "code",
      "metadata": {
        "id": "5hXxOHNQJRKn",
        "outputId": "9e44cbbe-8b7b-4092-aeac-8ee46d929a14",
        "colab": {
          "base_uri": "https://localhost:8080/",
          "height": 505
        }
      },
      "source": [
        "plot( roc(training.data$WetGrass,y) )"
      ],
      "execution_count": 10,
      "outputs": [
        {
          "output_type": "stream",
          "text": [
            "Setting levels: control = FALSE, case = TRUE\n",
            "\n",
            "Setting direction: controls < cases\n",
            "\n"
          ],
          "name": "stderr"
        },
        {
          "output_type": "display_data",
          "data": {
            "image/png": "[encoded data removed]",
            "text/plain": [
              "plot without title"
            ]
          },
          "metadata": {
            "tags": [],
            "image/png": {
              "width": 420,
              "height": 420
            }
          }
        }
      ]
    },
    {
      "cell_type": "markdown",
      "metadata": {
        "id": "ouKnRoAHJdZA"
      },
      "source": [
        "This ROC curve does not look too bad. But remember that this is the data we fitted the classifier on, so this is not actually a prediction. We should instead look at the test data."
      ]
    },
    {
      "cell_type": "code",
      "metadata": {
        "id": "Gha-cAFQJUOu",
        "outputId": "63bb6920-8296-4726-cc6a-9e438094dffe",
        "colab": {
          "base_uri": "https://localhost:8080/",
          "height": 505
        }
      },
      "source": [
        "y <- predict( m, newdata=test.data, type=\"response\" )\n",
        "plot( roc(test.data$WetGrass,y) )"
      ],
      "execution_count": 11,
      "outputs": [
        {
          "output_type": "stream",
          "text": [
            "Setting levels: control = FALSE, case = TRUE\n",
            "\n",
            "Setting direction: controls < cases\n",
            "\n"
          ],
          "name": "stderr"
        },
        {
          "output_type": "display_data",
          "data": {
            "image/png": "[encoded data removed]",
            "text/plain": [
              "plot without title"
            ]
          },
          "metadata": {
            "tags": [],
            "image/png": {
              "width": 420,
              "height": 420
            }
          }
        }
      ]
    },
    {
      "cell_type": "code",
      "metadata": {
        "id": "6U03j-ThJnQM",
        "outputId": "4805f893-fa7c-4f2c-a5f1-b78f158cbd50",
        "colab": {
          "base_uri": "https://localhost:8080/",
          "height": 102
        }
      },
      "source": [
        "auc( test.data$WetGrass, y )"
      ],
      "execution_count": 12,
      "outputs": [
        {
          "output_type": "stream",
          "text": [
            "Setting levels: control = FALSE, case = TRUE\n",
            "\n",
            "Setting direction: controls < cases\n",
            "\n"
          ],
          "name": "stderr"
        },
        {
          "output_type": "display_data",
          "data": {
            "text/plain": [
              "Area under the curve: 0.9327"
            ],
            "text/latex": "0.932740480406122",
            "text/markdown": "0.932740480406122",
            "text/html": [
              "0.932740480406122"
            ]
          },
          "metadata": {
            "tags": []
          }
        }
      ]
    },
    {
      "cell_type": "markdown",
      "metadata": {
        "id": "xxx-DzzzJpdd"
      },
      "source": [
        "This really isn’t bad! Our logistic regression classifier seems to generalize pretty well."
      ]
    },
    {
      "cell_type": "markdown",
      "metadata": {
        "id": "s_Y8BvpQJsow"
      },
      "source": [
        "##Using Naive Bayes to predict whether the grass is wet\n",
        "\n",
        "Now we will use Naive Bayes instead of logistic regression to solve the same task. For this we will use yet another package, which provides an implementation of Naive Bayes that uses the standard R interface for fitting prediction models. This implementation can be found in the aptly named `naivebayes` package."
      ]
    },
    {
      "cell_type": "code",
      "metadata": {
        "id": "4A0p13sWJnj0",
        "outputId": "a3cf074c-a4b8-4530-a51b-5142d9b699bc",
        "colab": {
          "base_uri": "https://localhost:8080/"
        }
      },
      "source": [
        "library(naivebayes)"
      ],
      "execution_count": 13,
      "outputs": [
        {
          "output_type": "stream",
          "text": [
            "naivebayes 0.9.7 loaded\n",
            "\n"
          ],
          "name": "stderr"
        }
      ]
    },
    {
      "cell_type": "markdown",
      "metadata": {
        "id": "3-qhijVRJ08E"
      },
      "source": [
        "The `naivebayes` package uses the standard R interface for model fitting, just like in the logistic regression example."
      ]
    },
    {
      "cell_type": "code",
      "metadata": {
        "id": "-66X1l5BJymy"
      },
      "source": [
        "m <- naive_bayes( WetGrass ~ Cloudy + Rain + Sprinkler, data=training.data )"
      ],
      "execution_count": 14,
      "outputs": []
    },
    {
      "cell_type": "markdown",
      "metadata": {
        "id": "BHPrv5A8J63P"
      },
      "source": [
        "We can look at the estimated probability tables simply by printing the fitted object."
      ]
    },
    {
      "cell_type": "code",
      "metadata": {
        "id": "GgyJz5k_J5le",
        "outputId": "4b40a3d2-150f-4e44-a774-262115cf614a",
        "colab": {
          "base_uri": "https://localhost:8080/",
          "height": 816
        }
      },
      "source": [
        "m"
      ],
      "execution_count": 15,
      "outputs": [
        {
          "output_type": "display_data",
          "data": {
            "text/plain": [
              "\n",
              "================================== Naive Bayes ================================== \n",
              " \n",
              " Call: \n",
              "naive_bayes.formula(formula = WetGrass ~ Cloudy + Rain + Sprinkler, \n",
              "    data = training.data)\n",
              "\n",
              "--------------------------------------------------------------------------------- \n",
              " \n",
              "Laplace smoothing: 0\n",
              "\n",
              "--------------------------------------------------------------------------------- \n",
              " \n",
              " A priori probabilities: \n",
              "\n",
              "FALSE  TRUE \n",
              "0.352 0.648 \n",
              "\n",
              "--------------------------------------------------------------------------------- \n",
              " \n",
              " Tables: \n",
              "\n",
              "--------------------------------------------------------------------------------- \n",
              " ::: Cloudy (Bernoulli) \n",
              "--------------------------------------------------------------------------------- \n",
              "       \n",
              "Cloudy      FALSE      TRUE\n",
              "  FALSE 0.6761364 0.3919753\n",
              "  TRUE  0.3238636 0.6080247\n",
              "\n",
              "--------------------------------------------------------------------------------- \n",
              " ::: Rain (Bernoulli) \n",
              "--------------------------------------------------------------------------------- \n",
              "       \n",
              "Rain        FALSE      TRUE\n",
              "  FALSE 0.8977273 0.2932099\n",
              "  TRUE  0.1022727 0.7067901\n",
              "\n",
              "--------------------------------------------------------------------------------- \n",
              " ::: Sprinkler (Bernoulli) \n",
              "--------------------------------------------------------------------------------- \n",
              "         \n",
              "Sprinkler      FALSE       TRUE\n",
              "    FALSE 0.92045455 0.57716049\n",
              "    TRUE  0.07954545 0.42283951\n",
              "\n",
              "---------------------------------------------------------------------------------\n"
            ]
          },
          "metadata": {
            "tags": []
          }
        }
      ]
    },
    {
      "cell_type": "markdown",
      "metadata": {
        "id": "dVKh_zjnKvdc"
      },
      "source": [
        "Now we proceed to generate predictions. This time, we go straight to the test set."
      ]
    },
    {
      "cell_type": "code",
      "metadata": {
        "id": "cw4kIp3WJ8Rd",
        "outputId": "a4162818-d01e-4c32-8392-9c9845cbc6ef",
        "colab": {
          "base_uri": "https://localhost:8080/"
        }
      },
      "source": [
        "y <- predict( m, newdata=test.data, type=\"prob\" )"
      ],
      "execution_count": 16,
      "outputs": [
        {
          "output_type": "stream",
          "text": [
            "Warning message:\n",
            "“predict.naive_bayes(): more features in the newdata are provided as there are probability tables in the object. Calculation is performed based on features to be found in the tables.”\n"
          ],
          "name": "stderr"
        }
      ]
    },
    {
      "cell_type": "markdown",
      "metadata": {
        "id": "F8CgX-43K5NW"
      },
      "source": [
        "Unlike the logistic regression, this will give us a matrix of probabilities. In the first column, we find the probability that the grass is not wet, and in the second column, we find the probability that the grass is wet:"
      ]
    },
    {
      "cell_type": "code",
      "metadata": {
        "id": "clyhvyYZKx3u",
        "outputId": "ec53283b-93cf-4afa-f546-68257322e575",
        "colab": {
          "base_uri": "https://localhost:8080/",
          "height": 200
        }
      },
      "source": [
        "head(y)"
      ],
      "execution_count": 17,
      "outputs": [
        {
          "output_type": "display_data",
          "data": {
            "text/plain": [
              "     FALSE      TRUE     \n",
              "[1,] 0.82063584 0.1793642\n",
              "[2,] 0.82063584 0.1793642\n",
              "[3,] 0.06259113 0.9374089\n",
              "[4,] 0.06259113 0.9374089\n",
              "[5,] 0.82063584 0.1793642\n",
              "[6,] 0.06259113 0.9374089"
            ],
            "text/latex": "A matrix: 6 × 2 of type dbl\n\\begin{tabular}{ll}\n FALSE & TRUE\\\\\n\\hline\n\t 0.82063584 & 0.1793642\\\\\n\t 0.82063584 & 0.1793642\\\\\n\t 0.06259113 & 0.9374089\\\\\n\t 0.06259113 & 0.9374089\\\\\n\t 0.82063584 & 0.1793642\\\\\n\t 0.06259113 & 0.9374089\\\\\n\\end{tabular}\n",
            "text/markdown": "\nA matrix: 6 × 2 of type dbl\n\n| FALSE | TRUE |\n|---|---|\n| 0.82063584 | 0.1793642 |\n| 0.82063584 | 0.1793642 |\n| 0.06259113 | 0.9374089 |\n| 0.06259113 | 0.9374089 |\n| 0.82063584 | 0.1793642 |\n| 0.06259113 | 0.9374089 |\n\n",
            "text/html": [
              "<table>\n",
              "<caption>A matrix: 6 × 2 of type dbl</caption>\n",
              "<thead>\n",
              "\t<tr><th scope=col>FALSE</th><th scope=col>TRUE</th></tr>\n",
              "</thead>\n",
              "<tbody>\n",
              "\t<tr><td>0.82063584</td><td>0.1793642</td></tr>\n",
              "\t<tr><td>0.82063584</td><td>0.1793642</td></tr>\n",
              "\t<tr><td>0.06259113</td><td>0.9374089</td></tr>\n",
              "\t<tr><td>0.06259113</td><td>0.9374089</td></tr>\n",
              "\t<tr><td>0.82063584</td><td>0.1793642</td></tr>\n",
              "\t<tr><td>0.06259113</td><td>0.9374089</td></tr>\n",
              "</tbody>\n",
              "</table>\n"
            ]
          },
          "metadata": {
            "tags": []
          }
        }
      ]
    },
    {
      "cell_type": "markdown",
      "metadata": {
        "id": "3qDnBbjHLIFT"
      },
      "source": [
        "To continue, we just discard the first column."
      ]
    },
    {
      "cell_type": "code",
      "metadata": {
        "id": "B_0D-imcLEtj"
      },
      "source": [
        "y <- y[,2]"
      ],
      "execution_count": 18,
      "outputs": []
    },
    {
      "cell_type": "markdown",
      "metadata": {
        "id": "jyXVj7G1LPEb"
      },
      "source": [
        "From here on, we can determine our AUC values in exactly the same way as for the logistic regression above."
      ]
    },
    {
      "cell_type": "code",
      "metadata": {
        "id": "CNhFfl4pLMtI",
        "outputId": "5261d4ce-7f60-4c9f-d6ba-279e7e617e8e",
        "colab": {
          "base_uri": "https://localhost:8080/",
          "height": 505
        }
      },
      "source": [
        "plot(roc(test.data$WetGrass,y) )"
      ],
      "execution_count": 19,
      "outputs": [
        {
          "output_type": "stream",
          "text": [
            "Setting levels: control = FALSE, case = TRUE\n",
            "\n",
            "Setting direction: controls < cases\n",
            "\n"
          ],
          "name": "stderr"
        },
        {
          "output_type": "display_data",
          "data": {
            "image/png": "[encoded data removed]",
            "text/plain": [
              "plot without title"
            ]
          },
          "metadata": {
            "tags": [],
            "image/png": {
              "width": 420,
              "height": 420
            }
          }
        }
      ]
    },
    {
      "cell_type": "code",
      "metadata": {
        "id": "I_VQum_OLX3l",
        "outputId": "7f9980ab-dca4-4e7e-b230-0531ea029076",
        "colab": {
          "base_uri": "https://localhost:8080/",
          "height": 102
        }
      },
      "source": [
        "auc( test.data$WetGrass, y )"
      ],
      "execution_count": 20,
      "outputs": [
        {
          "output_type": "stream",
          "text": [
            "Setting levels: control = FALSE, case = TRUE\n",
            "\n",
            "Setting direction: controls < cases\n",
            "\n"
          ],
          "name": "stderr"
        },
        {
          "output_type": "display_data",
          "data": {
            "text/plain": [
              "Area under the curve: 0.9268"
            ],
            "text/latex": "0.926803076090188",
            "text/markdown": "0.926803076090188",
            "text/html": [
              "0.926803076090188"
            ]
          },
          "metadata": {
            "tags": []
          }
        }
      ]
    },
    {
      "cell_type": "markdown",
      "metadata": {
        "id": "-l1Os32FLc_d"
      },
      "source": [
        "This is just a tiny little bit worse than the logistic regression; this difference is well within the uncertainty range, so we cannot actually say that it’s different at all."
      ]
    },
    {
      "cell_type": "markdown",
      "metadata": {
        "id": "7caacosTLiw2"
      },
      "source": [
        "##Optimal Bayes\n",
        "\n",
        "The course R package contains a very simple implementation of the optimal Bayes classifier introduced in the lecture. This is not a very well tested implementation, and it can likely be broken; please let us know if you encounter any problems. For now, we’ll use it only on the same sprinkler data as before.\n",
        "\n",
        "The interface of the optimal Bayes is the same as for the naive Bayes classifier above."
      ]
    },
    {
      "cell_type": "code",
      "metadata": {
        "id": "GivlPvMxLaps"
      },
      "source": [
        "m <- optimal_bayes( WetGrass ~ Cloudy + Rain + Sprinkler, data=training.data )"
      ],
      "execution_count": 21,
      "outputs": []
    },
    {
      "cell_type": "markdown",
      "metadata": {
        "id": "MvULQABNLvgm"
      },
      "source": [
        "This will just generate one large probability table."
      ]
    },
    {
      "cell_type": "code",
      "metadata": {
        "id": "ZrSCa9luLt49",
        "outputId": "b3c4bc9b-ace6-4505-f037-cff6de5a6fae",
        "colab": {
          "base_uri": "https://localhost:8080/",
          "height": 527
        }
      },
      "source": [
        "m"
      ],
      "execution_count": 22,
      "outputs": [
        {
          "output_type": "display_data",
          "data": {
            "text/plain": [
              "$evidence\n",
              "[1] \"Cloudy\"    \"Rain\"      \"Sprinkler\"\n",
              "\n",
              "$hypothesis\n",
              "[1] \"WetGrass\"\n",
              "\n",
              "$classes\n",
              "[1]  TRUE FALSE\n",
              "\n",
              "$probability_table\n",
              "   WetGrass Cloudy  Rain Sprinkler  Freq\n",
              "1     FALSE  FALSE FALSE     FALSE 0.204\n",
              "2      TRUE  FALSE FALSE     FALSE 0.002\n",
              "3     FALSE   TRUE FALSE     FALSE 0.086\n",
              "4      TRUE   TRUE FALSE     FALSE 0.000\n",
              "5     FALSE  FALSE  TRUE     FALSE 0.006\n",
              "6      TRUE  FALSE  TRUE     FALSE 0.032\n",
              "7     FALSE   TRUE  TRUE     FALSE 0.028\n",
              "8      TRUE   TRUE  TRUE     FALSE 0.340\n",
              "9     FALSE  FALSE FALSE      TRUE 0.026\n",
              "10     TRUE  FALSE FALSE      TRUE 0.174\n",
              "11    FALSE   TRUE FALSE      TRUE 0.000\n",
              "12     TRUE   TRUE FALSE      TRUE 0.014\n",
              "13    FALSE  FALSE  TRUE      TRUE 0.002\n",
              "14     TRUE  FALSE  TRUE      TRUE 0.046\n",
              "15    FALSE   TRUE  TRUE      TRUE 0.000\n",
              "16     TRUE   TRUE  TRUE      TRUE 0.040\n",
              "\n",
              "attr(,\"class\")\n",
              "[1] \"optimal_bayes\""
            ]
          },
          "metadata": {
            "tags": []
          }
        }
      ]
    },
    {
      "cell_type": "code",
      "metadata": {
        "id": "hz6FTVtoL8SJ"
      },
      "source": [
        "y <- predict( m, newdata=test.data )"
      ],
      "execution_count": 23,
      "outputs": []
    },
    {
      "cell_type": "markdown",
      "metadata": {
        "id": "ElX9j63wMDns"
      },
      "source": [
        "Like for naive Bayes, this will give us a matrix of probabilities. In the first column, we find the probability\n",
        "that the grass is not wet, and in the second column, we find the probability that the grass is wet:"
      ]
    },
    {
      "cell_type": "code",
      "metadata": {
        "id": "GAiaPD5DMCJg",
        "outputId": "d43fd682-709f-4533-b452-abbe387ded41",
        "colab": {
          "base_uri": "https://localhost:8080/",
          "height": 183
        }
      },
      "source": [
        "head(y)"
      ],
      "execution_count": 24,
      "outputs": [
        {
          "output_type": "display_data",
          "data": {
            "text/plain": [
              "     FALSE      TRUE       \n",
              "[1,] 0.99029126 0.009708738\n",
              "[2,] 0.99029126 0.009708738\n",
              "[3,] 0.07608696 0.923913043\n",
              "[4,] 0.07608696 0.923913043\n",
              "[5,] 0.99029126 0.009708738\n",
              "[6,] 0.07608696 0.923913043"
            ],
            "text/latex": "A matrix: 6 × 2 of type dbl\n\\begin{tabular}{ll}\n FALSE & TRUE\\\\\n\\hline\n\t 0.99029126 & 0.009708738\\\\\n\t 0.99029126 & 0.009708738\\\\\n\t 0.07608696 & 0.923913043\\\\\n\t 0.07608696 & 0.923913043\\\\\n\t 0.99029126 & 0.009708738\\\\\n\t 0.07608696 & 0.923913043\\\\\n\\end{tabular}\n",
            "text/markdown": "\nA matrix: 6 × 2 of type dbl\n\n| FALSE | TRUE |\n|---|---|\n| 0.99029126 | 0.009708738 |\n| 0.99029126 | 0.009708738 |\n| 0.07608696 | 0.923913043 |\n| 0.07608696 | 0.923913043 |\n| 0.99029126 | 0.009708738 |\n| 0.07608696 | 0.923913043 |\n\n",
            "text/html": [
              "<table>\n",
              "<caption>A matrix: 6 × 2 of type dbl</caption>\n",
              "<thead>\n",
              "\t<tr><th scope=col>FALSE</th><th scope=col>TRUE</th></tr>\n",
              "</thead>\n",
              "<tbody>\n",
              "\t<tr><td>0.99029126</td><td>0.009708738</td></tr>\n",
              "\t<tr><td>0.99029126</td><td>0.009708738</td></tr>\n",
              "\t<tr><td>0.07608696</td><td>0.923913043</td></tr>\n",
              "\t<tr><td>0.07608696</td><td>0.923913043</td></tr>\n",
              "\t<tr><td>0.99029126</td><td>0.009708738</td></tr>\n",
              "\t<tr><td>0.07608696</td><td>0.923913043</td></tr>\n",
              "</tbody>\n",
              "</table>\n"
            ]
          },
          "metadata": {
            "tags": []
          }
        }
      ]
    },
    {
      "cell_type": "markdown",
      "metadata": {
        "id": "7T53CYrhMHW_"
      },
      "source": [
        "To continue, we just discard the first column."
      ]
    },
    {
      "cell_type": "code",
      "metadata": {
        "id": "kMKRSa1GMGB0"
      },
      "source": [
        "y <- y[,2]"
      ],
      "execution_count": 25,
      "outputs": []
    },
    {
      "cell_type": "markdown",
      "metadata": {
        "id": "xSqn9VL3MM7S"
      },
      "source": [
        "From here on, we can determine our AUC values in exactly the same way as above."
      ]
    },
    {
      "cell_type": "code",
      "metadata": {
        "id": "SJ8H3XsCMLZQ",
        "outputId": "decfff7a-2319-4537-ebaa-d45fbf36ea4d",
        "colab": {
          "base_uri": "https://localhost:8080/",
          "height": 505
        }
      },
      "source": [
        "plot( roc(test.data$WetGrass,y) )"
      ],
      "execution_count": 26,
      "outputs": [
        {
          "output_type": "stream",
          "text": [
            "Setting levels: control = FALSE, case = TRUE\n",
            "\n",
            "Setting direction: controls < cases\n",
            "\n"
          ],
          "name": "stderr"
        },
        {
          "output_type": "display_data",
          "data": {
            "image/png": "[encoded data removed]",
            "text/plain": [
              "plot without title"
            ]
          },
          "metadata": {
            "tags": [],
            "image/png": {
              "width": 420,
              "height": 420
            }
          }
        }
      ]
    },
    {
      "cell_type": "code",
      "metadata": {
        "id": "NZyZmGLyMQBJ",
        "outputId": "795871c5-7d73-4b71-89b2-dd6f049e3e65",
        "colab": {
          "base_uri": "https://localhost:8080/",
          "height": 102
        }
      },
      "source": [
        "auc( test.data$WetGrass, y )"
      ],
      "execution_count": 27,
      "outputs": [
        {
          "output_type": "stream",
          "text": [
            "Setting levels: control = FALSE, case = TRUE\n",
            "\n",
            "Setting direction: controls < cases\n",
            "\n"
          ],
          "name": "stderr"
        },
        {
          "output_type": "display_data",
          "data": {
            "text/plain": [
              "Area under the curve: 0.9323"
            ],
            "text/latex": "0.932336665912288",
            "text/markdown": "0.932336665912288",
            "text/html": [
              "0.932336665912288"
            ]
          },
          "metadata": {
            "tags": []
          }
        }
      ]
    },
    {
      "cell_type": "markdown",
      "metadata": {
        "id": "3dbQ10DFMXqB"
      },
      "source": [
        "##Questions\n",
        "\n",
        "Now it’s your turn! Please modify and perhaps extend the code above to answer the following question:\n",
        "* What happens to the performance of logistic regression and naive Bayes if you change the size of the test set?"
      ]
    },
    {
      "cell_type": "markdown",
      "metadata": {
        "id": "aQq2gofYMgO_"
      },
      "source": [
        "##Further reading\n",
        "\n",
        "If you want to learn about a theoretical perspective on the difference between naive Bayes and logistic regression classifiers, the paper by Ng and Jordan (2001) is a very important classic in the field."
      ]
    },
    {
      "cell_type": "code",
      "metadata": {
        "id": "1AhzcYonNEEi"
      },
      "source": [
        ""
      ],
      "execution_count": null,
      "outputs": []
    },
    {
      "cell_type": "markdown",
      "metadata": {
        "id": "9H4tFOIjNGXw"
      },
      "source": [
        "# Bayesian Network Structure and Prediction\n",
        "\n",
        "We will now move on to do predictions with a “real” Bayesian network, and compare these predictions to those that we get from Naive Bayes and Logistic Regression.\n",
        "\n",
        "Learning objectives:\n",
        "* Be able to compare the outputs of different probabilistic classifiers\n",
        "* Be able to perform prediction using Bayesian networks\n",
        "\n",
        "\n",
        "You will need to have the R packages `pROC`, `naivebayes`, and `bayesianNetworks` installed for this chapter; please see the previous chapter for instructions.\n",
        "\n",
        "The `bayesianNetworks` package may change and/or upgraded throughout this course, so it may be a good idea to re-install it regularly."
      ]
    },
    {
      "cell_type": "code",
      "metadata": {
        "id": "EdsvY_6WNa00"
      },
      "source": [
        "#library( bayesianNetworks )"
      ],
      "execution_count": null,
      "outputs": []
    },
    {
      "cell_type": "markdown",
      "metadata": {
        "id": "HsFIFy7yNhMM"
      },
      "source": [
        "##Installing the R package `bnlearn`\n",
        "\n",
        "This week’s exercise makes use of a new package, which is called `bnlearn`. This is a very powerful R package for working with Bayesian networks (Scutari, 2010)."
      ]
    },
    {
      "cell_type": "code",
      "metadata": {
        "id": "eGMrbwOmNq2p",
        "outputId": "9c0ac07c-fccc-4dff-d719-12355f1e322a",
        "colab": {
          "base_uri": "https://localhost:8080/"
        }
      },
      "source": [
        "install.packages(\"bnlearn\")\n",
        "library( bnlearn )"
      ],
      "execution_count": 28,
      "outputs": [
        {
          "output_type": "stream",
          "text": [
            "Installing package into ‘/usr/local/lib/R/site-library’\n",
            "(as ‘lib’ is unspecified)\n",
            "\n"
          ],
          "name": "stderr"
        }
      ]
    },
    {
      "cell_type": "markdown",
      "metadata": {
        "id": "Kk_8E11UN1et"
      },
      "source": [
        "##Generating some artificial data to work with\n",
        "\n",
        "Like last week, let us first generate some data from the `Sprinkler` example. We now deliberately create a very large training set. We do not want to do prediction on separate test data this time so we generate only the training data.\n"
      ]
    },
    {
      "cell_type": "code",
      "metadata": {
        "id": "Q8UKAvHANsUK"
      },
      "source": [
        "set.seed(123)\n",
        "training.data <- simulate_sprinkler( 10000 )"
      ],
      "execution_count": 29,
      "outputs": []
    },
    {
      "cell_type": "markdown",
      "metadata": {
        "id": "kOzPiRf5OiKA"
      },
      "source": [
        "Next we fill fit two classifiers on it: an “optimal bayes” classifier (so just a probability table) and a logistic regression."
      ]
    },
    {
      "cell_type": "code",
      "metadata": {
        "id": "spLXWwMoOgDT"
      },
      "source": [
        " m.lr <- glm( WetGrass ~ Cloudy + Rain + Sprinkler, data=training.data, family=\"binomial\" )\n",
        " m.optbayes <- optimal_bayes( WetGrass ~ Cloudy + Rain + Sprinkler, data=training.data )"
      ],
      "execution_count": 30,
      "outputs": []
    },
    {
      "cell_type": "markdown",
      "metadata": {
        "id": "88ozT3SWO2HJ"
      },
      "source": [
        "##Comparing optimal Bayes to logistic regression\n",
        "\n",
        "We know that logistic regression performs an approximation to the optimal Bayes classifier. We now wonder how much this approximation actually differs from the “real” probability tables. To answer this question, we will need to generate probabilities for the grass being wet for each possible combination of the other values.\n",
        "\n",
        "\n",
        "We first create a matrix containing all combinations of the other values:"
      ]
    },
    {
      "cell_type": "code",
      "metadata": {
        "id": "dYXm7SefOxOF",
        "outputId": "f40c0c0a-bf84-44b7-918c-43565a41dbca",
        "colab": {
          "base_uri": "https://localhost:8080/",
          "height": 246
        }
      },
      "source": [
        "tbl <- expand.grid( Cloudy=c(FALSE,TRUE), Rain=c(FALSE,TRUE), Sprinkler=c(FALSE,TRUE))\n",
        "tbl"
      ],
      "execution_count": 32,
      "outputs": [
        {
          "output_type": "display_data",
          "data": {
            "text/plain": [
              "  Cloudy Rain  Sprinkler\n",
              "1 FALSE  FALSE FALSE    \n",
              "2  TRUE  FALSE FALSE    \n",
              "3 FALSE   TRUE FALSE    \n",
              "4  TRUE   TRUE FALSE    \n",
              "5 FALSE  FALSE  TRUE    \n",
              "6  TRUE  FALSE  TRUE    \n",
              "7 FALSE   TRUE  TRUE    \n",
              "8  TRUE   TRUE  TRUE    "
            ],
            "text/latex": "A data.frame: 8 × 3\n\\begin{tabular}{lll}\n Cloudy & Rain & Sprinkler\\\\\n <lgl> & <lgl> & <lgl>\\\\\n\\hline\n\t FALSE & FALSE & FALSE\\\\\n\t  TRUE & FALSE & FALSE\\\\\n\t FALSE &  TRUE & FALSE\\\\\n\t  TRUE &  TRUE & FALSE\\\\\n\t FALSE & FALSE &  TRUE\\\\\n\t  TRUE & FALSE &  TRUE\\\\\n\t FALSE &  TRUE &  TRUE\\\\\n\t  TRUE &  TRUE &  TRUE\\\\\n\\end{tabular}\n",
            "text/markdown": "\nA data.frame: 8 × 3\n\n| Cloudy &lt;lgl&gt; | Rain &lt;lgl&gt; | Sprinkler &lt;lgl&gt; |\n|---|---|---|\n| FALSE | FALSE | FALSE |\n|  TRUE | FALSE | FALSE |\n| FALSE |  TRUE | FALSE |\n|  TRUE |  TRUE | FALSE |\n| FALSE | FALSE |  TRUE |\n|  TRUE | FALSE |  TRUE |\n| FALSE |  TRUE |  TRUE |\n|  TRUE |  TRUE |  TRUE |\n\n",
            "text/html": [
              "<table>\n",
              "<caption>A data.frame: 8 × 3</caption>\n",
              "<thead>\n",
              "\t<tr><th scope=col>Cloudy</th><th scope=col>Rain</th><th scope=col>Sprinkler</th></tr>\n",
              "\t<tr><th scope=col>&lt;lgl&gt;</th><th scope=col>&lt;lgl&gt;</th><th scope=col>&lt;lgl&gt;</th></tr>\n",
              "</thead>\n",
              "<tbody>\n",
              "\t<tr><td>FALSE</td><td>FALSE</td><td>FALSE</td></tr>\n",
              "\t<tr><td> TRUE</td><td>FALSE</td><td>FALSE</td></tr>\n",
              "\t<tr><td>FALSE</td><td> TRUE</td><td>FALSE</td></tr>\n",
              "\t<tr><td> TRUE</td><td> TRUE</td><td>FALSE</td></tr>\n",
              "\t<tr><td>FALSE</td><td>FALSE</td><td> TRUE</td></tr>\n",
              "\t<tr><td> TRUE</td><td>FALSE</td><td> TRUE</td></tr>\n",
              "\t<tr><td>FALSE</td><td> TRUE</td><td> TRUE</td></tr>\n",
              "\t<tr><td> TRUE</td><td> TRUE</td><td> TRUE</td></tr>\n",
              "</tbody>\n",
              "</table>\n"
            ]
          },
          "metadata": {
            "tags": []
          }
        }
      ]
    },
    {
      "cell_type": "markdown",
      "metadata": {
        "id": "fvslJ_rdS6dk"
      },
      "source": [
        "Now, for each of these combinations, we predict the conditional probability that the grass is wet from the logistic regression."
      ]
    },
    {
      "cell_type": "code",
      "metadata": {
        "id": "Li2BHhYWP0AT"
      },
      "source": [
        "p.lr <- predict( m.lr, newdata=tbl, type=\"response\" )"
      ],
      "execution_count": 34,
      "outputs": []
    },
    {
      "cell_type": "markdown",
      "metadata": {
        "id": "sOWeBJcvTVVf"
      },
      "source": [
        "And we also predict the same probabilities from the optimal Bayes."
      ]
    },
    {
      "cell_type": "code",
      "metadata": {
        "id": "J3XuV9IcTU6v"
      },
      "source": [
        "p.optbayes <- predict( m.optbayes, newdata=tbl )[,2]"
      ],
      "execution_count": 35,
      "outputs": []
    },
    {
      "cell_type": "markdown",
      "metadata": {
        "id": "HQ3eIx_KTZ1f"
      },
      "source": [
        "Let us first compare these results side by side."
      ]
    },
    {
      "cell_type": "code",
      "metadata": {
        "id": "G51PTjD6TYAo",
        "outputId": "82b48df1-cb1d-4061-f6d2-fb7253c9d5ee",
        "colab": {
          "base_uri": "https://localhost:8080/",
          "height": 225
        }
      },
      "source": [
        "cbind( p.lr, p.optbayes )"
      ],
      "execution_count": 36,
      "outputs": [
        {
          "output_type": "display_data",
          "data": {
            "text/plain": [
              "  p.lr       p.optbayes \n",
              "1 0.01144195 0.007831620\n",
              "2 0.01268746 0.007726269\n",
              "3 0.88607417 0.889534884\n",
              "4 0.89621333 0.899003874\n",
              "5 0.90590837 0.911779704\n",
              "6 0.91445276 0.918604651\n",
              "7 0.99984546 0.987878788\n",
              "8 0.99986080 0.984168865"
            ],
            "text/latex": "A matrix: 8 × 2 of type dbl\n\\begin{tabular}{r|ll}\n  & p.lr & p.optbayes\\\\\n\\hline\n\t1 & 0.01144195 & 0.007831620\\\\\n\t2 & 0.01268746 & 0.007726269\\\\\n\t3 & 0.88607417 & 0.889534884\\\\\n\t4 & 0.89621333 & 0.899003874\\\\\n\t5 & 0.90590837 & 0.911779704\\\\\n\t6 & 0.91445276 & 0.918604651\\\\\n\t7 & 0.99984546 & 0.987878788\\\\\n\t8 & 0.99986080 & 0.984168865\\\\\n\\end{tabular}\n",
            "text/markdown": "\nA matrix: 8 × 2 of type dbl\n\n| <!--/--> | p.lr | p.optbayes |\n|---|---|---|\n| 1 | 0.01144195 | 0.007831620 |\n| 2 | 0.01268746 | 0.007726269 |\n| 3 | 0.88607417 | 0.889534884 |\n| 4 | 0.89621333 | 0.899003874 |\n| 5 | 0.90590837 | 0.911779704 |\n| 6 | 0.91445276 | 0.918604651 |\n| 7 | 0.99984546 | 0.987878788 |\n| 8 | 0.99986080 | 0.984168865 |\n\n",
            "text/html": [
              "<table>\n",
              "<caption>A matrix: 8 × 2 of type dbl</caption>\n",
              "<thead>\n",
              "\t<tr><th></th><th scope=col>p.lr</th><th scope=col>p.optbayes</th></tr>\n",
              "</thead>\n",
              "<tbody>\n",
              "\t<tr><th scope=row>1</th><td>0.01144195</td><td>0.007831620</td></tr>\n",
              "\t<tr><th scope=row>2</th><td>0.01268746</td><td>0.007726269</td></tr>\n",
              "\t<tr><th scope=row>3</th><td>0.88607417</td><td>0.889534884</td></tr>\n",
              "\t<tr><th scope=row>4</th><td>0.89621333</td><td>0.899003874</td></tr>\n",
              "\t<tr><th scope=row>5</th><td>0.90590837</td><td>0.911779704</td></tr>\n",
              "\t<tr><th scope=row>6</th><td>0.91445276</td><td>0.918604651</td></tr>\n",
              "\t<tr><th scope=row>7</th><td>0.99984546</td><td>0.987878788</td></tr>\n",
              "\t<tr><th scope=row>8</th><td>0.99986080</td><td>0.984168865</td></tr>\n",
              "</tbody>\n",
              "</table>\n"
            ]
          },
          "metadata": {
            "tags": []
          }
        }
      ]
    },
    {
      "cell_type": "markdown",
      "metadata": {
        "id": "cdaQM1SpTegC"
      },
      "source": [
        "From this, it seems that the probabilities match up fairly well. Let us also plot them against each other:"
      ]
    },
    {
      "cell_type": "code",
      "metadata": {
        "id": "bdUyHEquTcYN",
        "outputId": "a5bccb6a-7034-4b16-d0de-84e03969a5d7",
        "colab": {
          "base_uri": "https://localhost:8080/",
          "height": 437
        }
      },
      "source": [
        "plot( p.lr, p.optbayes,\n",
        "    bty=\"l\", pch=19, xlim=c(0,1), ylim=c(0,1) )\n",
        "# Add diagonal line\n",
        "abline( a=0, b=1 )"
      ],
      "execution_count": 37,
      "outputs": [
        {
          "output_type": "display_data",
          "data": {
            "image/png": "[encoded data removed]",
            "text/plain": [
              "plot without title"
            ]
          },
          "metadata": {
            "tags": [],
            "image/png": {
              "width": 420,
              "height": 420
            }
          }
        }
      ]
    },
    {
      "cell_type": "markdown",
      "metadata": {
        "id": "ss8vmm_VTudv"
      },
      "source": [
        "This plot is not very useful because many probabilities are either close to 0 or close to 1. Such “extreme” probabilities cannot be compared very well. A remedy is the so-called “logit transformation”, which converts probabilities to log odds. We choose to use a 10-base logarithm for this transformation here:"
      ]
    },
    {
      "cell_type": "code",
      "metadata": {
        "id": "o1ybAPMjTljj",
        "outputId": "4732cc3d-7fce-407b-d9a7-b302920014ef",
        "colab": {
          "base_uri": "https://localhost:8080/",
          "height": 437
        }
      },
      "source": [
        "plot( log10(p.lr/(1-p.lr)), log10(p.optbayes/(1-p.optbayes)),\n",
        "    bty=\"l\", pch=19, xlim=c(-5,5), ylim=c(-5,5) )\n",
        "abline( a=0, b=1 )"
      ],
      "execution_count": 38,
      "outputs": [
        {
          "output_type": "display_data",
          "data": {
            "image/png": "[encoded data removed]",
            "text/plain": [
              "plot without title"
            ]
          },
          "metadata": {
            "tags": [],
            "image/png": {
              "width": 420,
              "height": 420
            }
          }
        }
      ]
    },
    {
      "cell_type": "markdown",
      "metadata": {
        "id": "RxfNUUu1jTFu"
      },
      "source": [
        "This plot visualizes very well that the most significant deviation from the optimal Bayes occurs in those cases where it is very likely that the grass is wet. For example, if all three variables are set to TRUE, then the probability that the grass is dry is still around 1.6% according to the optimal Bayes classifier, but far below 0.1% for logistic regression. In other words, logistic regression underestimates the probability of dry grass when it rains, the sprinkler is on, and it is cloudy by more than 10-fold!"
      ]
    },
    {
      "cell_type": "markdown",
      "metadata": {
        "id": "Qca7A6Hqjccz"
      },
      "source": [
        "##Comparing naive Bayes to logistic regression\n",
        "\n",
        "Now, let’s see how the `bnlearn` package can be used to specify and use Bayesian networks for this kind of prediction problems. First, we specify a Bayesian network model that has simply the Naive Bayes structure. There are many different ways to specify such structures in the `bnlearn` package. A convenient way is the function `model2network`. Here we specify the parents of each node after the bar symbol.\n"
      ]
    },
    {
      "cell_type": "code",
      "metadata": {
        "id": "j5R2dSzzT0g0"
      },
      "source": [
        "net <- model2network(\"[WetGrass][Sprinkler|WetGrass][Rain|WetGrass][Cloudy|WetGrass]\")"
      ],
      "execution_count": 39,
      "outputs": []
    },
    {
      "cell_type": "markdown",
      "metadata": {
        "id": "HjdCCr59jvYm"
      },
      "source": [
        "Note that in the Naive Bayes structure, each node has at most one parent. If there were multiple parents, we would separate them by a colon, e.g. `[WetGrass|Rain:Sprinker]`.\n",
        "\n",
        "Unfortunately, the `bnlearn` package cannot directly work with Boolean data. Instead, it expects the data as a so-called `factor`, which is the way that discrete variables are represented in R. So we first convert our training data to this format."
      ]
    },
    {
      "cell_type": "code",
      "metadata": {
        "id": "A5f_AxcBjsA8"
      },
      "source": [
        " training.data.for.bnlearn <- as.data.frame(lapply(training.data,factor))\n",
        " tbl.for.bnlearn <- as.data.frame(lapply(tbl,factor))"
      ],
      "execution_count": 40,
      "outputs": []
    },
    {
      "cell_type": "markdown",
      "metadata": {
        "id": "ixLH-AHQkpAE"
      },
      "source": [
        "Having done this, we can now “fit” the Bayesian network to the data. This means that we estimate the probabilities for each of the probability tables from the given data."
      ]
    },
    {
      "cell_type": "code",
      "metadata": {
        "id": "06z9yG2ikm9J"
      },
      "source": [
        "m.bn <- bn.fit( net, as.data.frame(lapply(training.data,factor)) )"
      ],
      "execution_count": 41,
      "outputs": []
    },
    {
      "cell_type": "markdown",
      "metadata": {
        "id": "EDTYwaWulBKI"
      },
      "source": [
        "This creates local probability tables for each node in the network.\n",
        "\n",
        "As we have heard in the lecture, inference in Bayesian networks is an NP-hard problem, so quite cumbersome algorithms need to be used to perform it. The `bnlearn` package actually uses a stochastic algorithm called likelihood-weighted sampling. We can invoke the algorithm and get predicted probabilities using the somewhat cryptic syntax below. The `n=10000` argument specifies the number of iterations used in the stochastic algorithm.\n"
      ]
    },
    {
      "cell_type": "code",
      "metadata": {
        "id": "rTuDbTxQkubU"
      },
      "source": [
        "pr.bn <- predict( m.bn, node=\"WetGrass\",\n",
        "    data=tbl.for.bnlearn, method=\"bayes-lw\", prob=TRUE, n=10000 )\n",
        "p.bn <- attr( pr.bn , 'prob' )[2,]"
      ],
      "execution_count": 42,
      "outputs": []
    },
    {
      "cell_type": "markdown",
      "metadata": {
        "id": "O5iHSIBflOdu"
      },
      "source": [
        "Note that every time you run the prediction, you will get slightly different results. But the general picture should resemble the one below."
      ]
    },
    {
      "cell_type": "code",
      "metadata": {
        "id": "itxOxj9wlTw7",
        "outputId": "0fb20f62-2da9-4474-aaf4-06a4ae64f2bd",
        "colab": {
          "base_uri": "https://localhost:8080/",
          "height": 437
        }
      },
      "source": [
        "plot( log10(p.bn/(1-p.bn)), log10(p.optbayes/(1-p.optbayes)),\n",
        "    bty=\"l\", pch=19, xlim=c(-5,5), ylim=c(-5,5) )\n",
        "# Add diagonal line\n",
        "abline( a=0, b=1 )"
      ],
      "execution_count": 43,
      "outputs": [
        {
          "output_type": "display_data",
          "data": {
            "image/png": "[encoded data removed]",
            "text/plain": [
              "plot without title"
            ]
          },
          "metadata": {
            "tags": [],
            "image/png": {
              "width": 420,
              "height": 420
            }
          }
        }
      ]
    },
    {
      "cell_type": "markdown",
      "metadata": {
        "id": "ycBZP5Z5lZ4Q"
      },
      "source": [
        "What we can see here is that, rather interestingly, the Naive Bayes algorithm makes most of its approximation error in the less probable outcomes, in contrast to Logistic regression where it was the most probable outcomes that were the most off.\n",
        "\n",
        "We can also appreciate these results when we plot the results of Naive Bayes and logistic regression directly against each other:"
      ]
    },
    {
      "cell_type": "code",
      "metadata": {
        "id": "6g3eY92llWIc",
        "outputId": "c1355c98-428d-4be2-9346-b28b79962ef7",
        "colab": {
          "base_uri": "https://localhost:8080/",
          "height": 437
        }
      },
      "source": [
        "plot( log10(p.bn/(1-p.bn)), log10(p.lr/(1-p.lr)),\n",
        "    bty=\"l\", pch=19, xlim=c(-5,5), ylim=c(-5,5) )\n",
        "# Add diagonal line\n",
        "abline( a=0, b=1 )"
      ],
      "execution_count": 44,
      "outputs": [
        {
          "output_type": "display_data",
          "data": {
            "image/png": "[encoded data removed]",
            "text/plain": [
              "plot without title"
            ]
          },
          "metadata": {
            "tags": [],
            "image/png": {
              "width": 420,
              "height": 420
            }
          }
        }
      ]
    },
    {
      "cell_type": "markdown",
      "metadata": {
        "id": "AfHmpDgOltmh"
      },
      "source": [
        "##Using real Bayesian networks\n",
        "\n",
        "Now it’s your turn! Try to modify the code to run a prediction using an actual Bayesian Network that does not have the Naive Bayes structure. Can you find a network structure that does well at approximating the Optimal Bayes probabilities?\n",
        "\n",
        "In particular, please test these structures.\n",
        "\n",
        "![Screenshot 2020-11-04 at 10.30.47.png](data:image/png;base64,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)"
      ]
    }
  ]
}