{
  "nbformat": 4,
  "nbformat_minor": 0,
  "metadata": {
    "colab": {
      "name": "R_companion",
      "provenance": [],
      "authorship_tag": "ABX9TyNC23/8gJZ9sOKni+QyngGX",
      "include_colab_link": true
    },
    "kernelspec": {
      "name": "ir",
      "display_name": "R"
    }
  },
  "cells": [
    {
      "cell_type": "markdown",
      "metadata": {
        "id": "view-in-github",
        "colab_type": "text"
      },
      "source": [
        "<a href=\"https://colab.research.google.com/github/prat8897/R_companion/blob/main/R_companion.ipynb\" target=\"_parent\"><img src=\"https://colab.research.google.com/assets/colab-badge.svg\" alt=\"Open In Colab\"/></a>"
      ]
    },
    {
      "cell_type": "code",
      "metadata": {
        "id": "tc8ZMtGyEk6Z",
        "outputId": "d0efc400-47ff-4c81-89db-97503386497d",
        "colab": {
          "base_uri": "https://localhost:8080/",
          "height": 272
        }
      },
      "source": [
        "R.version"
      ],
      "execution_count": 1,
      "outputs": [
        {
          "output_type": "display_data",
          "data": {
            "text/plain": [
              "               _                           \n",
              "platform       x86_64-pc-linux-gnu         \n",
              "arch           x86_64                      \n",
              "os             linux-gnu                   \n",
              "system         x86_64, linux-gnu           \n",
              "status                                     \n",
              "major          4                           \n",
              "minor          0.3                         \n",
              "year           2020                        \n",
              "month          10                          \n",
              "day            10                          \n",
              "svn rev        79318                       \n",
              "language       R                           \n",
              "version.string R version 4.0.3 (2020-10-10)\n",
              "nickname       Bunny-Wunnies Freak Out     "
            ]
          },
          "metadata": {
            "tags": []
          }
        }
      ]
    },
    {
      "cell_type": "markdown",
      "metadata": {
        "id": "qeF_0PV2GOY2"
      },
      "source": [
        "###Preface\n",
        "\n",
        "This document contains hands-on examples using R code to illustrate the methods discussed in the Bayesian networks course. Thre is usually one chapter here per lecture, but not all lectures have code examples.\n",
        "\n",
        "This course does not cover the R programming language itself, but we try to be gentle and explain a few things as we go along. There are many excellent resources online for learning R."
      ]
    },
    {
      "cell_type": "markdown",
      "metadata": {
        "id": "xBen0q8LGVm-"
      },
      "source": [
        "###Naive and Optimal Bayesian Prediction\n",
        "\n",
        "This vignette contains R code for performing prediction with Naive Bayes and logistic regression classifiers for an example from the lecture.\n",
        "\n",
        "Learning objectives:\n",
        "* Become acquainted with the R platform\n",
        "* Be able to perform simple classification tasks on discrete data\n",
        "* Understand the difference between logistic regression and Naive Bayes\n",
        "\n",
        "Please read the following vignette and make sure that you can run the code on your own computer. You will first need to have R or RStudio installed."
      ]
    },
    {
      "cell_type": "markdown",
      "metadata": {
        "id": "K-6YuJV1GnFm"
      },
      "source": [
        "##Installing the R package for this course\n",
        "\n",
        "We first need to install the Bayesian Networks R package from github. If you have not done this yet, uncomment the first two lines in the code block below (by removing the hash mark) and then run them. This should first install the “devtools” package, and then install the “bayesianNetworks” package from github.\n",
        "\n",
        "During the course, this package may change and be upgraded, so it may be a good idea to install it regularly."
      ]
    },
    {
      "cell_type": "code",
      "metadata": {
        "id": "TPwWvDP8Ffl3",
        "outputId": "f17caef8-85e2-4dc3-e64c-c9734cfae05f",
        "colab": {
          "base_uri": "https://localhost:8080/"
        }
      },
      "source": [
        "install.packages(c(\"remotes\",\"pROC\",\"naivebayes\"))\n",
        "remotes::install_github(\"jtextor/bayesianNetworks\")\n",
        "\n",
        "library( bayesianNetworks )"
      ],
      "execution_count": 2,
      "outputs": [
        {
          "output_type": "stream",
          "text": [
            "Installing packages into ‘/usr/local/lib/R/site-library’\n",
            "(as ‘lib’ is unspecified)\n",
            "\n",
            "also installing the dependency ‘plyr’\n",
            "\n",
            "\n",
            "Downloading GitHub repo jtextor/bayesianNetworks@HEAD\n",
            "\n"
          ],
          "name": "stderr"
        },
        {
          "output_type": "stream",
          "text": [
            "\u001b[32m✔\u001b[39m  \u001b[90mchecking for file ‘/tmp/RtmpJ1QJn3/remotes646efb2749/jtextor-bayesianNetworks-bd3d8e0/DESCRIPTION’\u001b[39m\u001b[36m\u001b[39m\n",
            "\u001b[90m─\u001b[39m\u001b[90m  \u001b[39m\u001b[90mpreparing ‘bayesianNetworks’:\u001b[39m\u001b[36m\u001b[39m\n",
            "\u001b[32m✔\u001b[39m  \u001b[90mchecking DESCRIPTION meta-information\u001b[39m\u001b[36m\u001b[39m\n",
            "\u001b[90m─\u001b[39m\u001b[90m  \u001b[39m\u001b[90mchecking for LF line-endings in source and make files and shell scripts\u001b[39m\u001b[36m\u001b[39m\n",
            "\u001b[90m─\u001b[39m\u001b[90m  \u001b[39m\u001b[90mchecking for empty or unneeded directories\u001b[39m\u001b[36m\u001b[39m\n",
            "\u001b[90m─\u001b[39m\u001b[90m  \u001b[39m\u001b[90mbuilding ‘bayesianNetworks_0.0.0.9000.tar.gz’\u001b[39m\u001b[36m\u001b[39m\n",
            "   \n"
          ],
          "name": "stdout"
        },
        {
          "output_type": "stream",
          "text": [
            "Installing package into ‘/usr/local/lib/R/site-library’\n",
            "(as ‘lib’ is unspecified)\n",
            "\n"
          ],
          "name": "stderr"
        }
      ]
    },
    {
      "cell_type": "markdown",
      "metadata": {
        "id": "rMksdTGOGyM9"
      },
      "source": [
        "Note: if installing the “bayesianNetworks” package above does not work for you, perhaps because your version of R is too old to install the “remotes” package that this also requires, then instead you can also use the line below to directly include the functions defined in that package.\n",
        "\n",
        "```\n",
        "# source(\"https://raw.githubusercontent.com/jtextor/bayesianNetworks/master/R/functions.R\")\n",
        "```"
      ]
    },
    {
      "cell_type": "markdown",
      "metadata": {
        "id": "BXzsHQhfG8Io"
      },
      "source": [
        "##Generating some artificial data to work with\n",
        "\n",
        "Now we simulate some data from the “Sprinkler” example in the lecture notes to train a classifier on. Separately we will also generate a test set to evaluate our classifier. Here I also seed the random number generator so that you hopefully get exactly the same output as I do."
      ]
    },
    {
      "cell_type": "code",
      "metadata": {
        "id": "qaZRZIEqFoM8"
      },
      "source": [
        "set.seed(123)\n",
        "training.data <- simulate_sprinkler( 500 )\n",
        "test.data <- simulate_sprinkler( 1000 )"
      ],
      "execution_count": 3,
      "outputs": []
    },
    {
      "cell_type": "markdown",
      "metadata": {
        "id": "cTiBw0fCHEXd"
      },
      "source": [
        "Let us see how the training data looks like. The below line generates a table similar to the ones we saw in the lecture by counting the amount of datapoints for each category."
      ]
    },
    {
      "cell_type": "code",
      "metadata": {
        "id": "LMFqHNF_F8R4",
        "outputId": "e60eb570-4b9c-4be1-e566-fb07b76c7f34",
        "colab": {
          "base_uri": "https://localhost:8080/"
        }
      },
      "source": [
        "print( ftable(training.data, row.vars=1:4) )"
      ],
      "execution_count": 4,
      "outputs": [
        {
          "output_type": "stream",
          "text": [
            "WetGrass Rain  Sprinkler Cloudy     \n",
            "FALSE    FALSE FALSE     FALSE   102\n",
            "                         TRUE     43\n",
            "               TRUE      FALSE    13\n",
            "                         TRUE      0\n",
            "         TRUE  FALSE     FALSE     3\n",
            "                         TRUE     14\n",
            "               TRUE      FALSE     1\n",
            "                         TRUE      0\n",
            "TRUE     FALSE FALSE     FALSE     1\n",
            "                         TRUE      0\n",
            "               TRUE      FALSE    87\n",
            "                         TRUE      7\n",
            "         TRUE  FALSE     FALSE    16\n",
            "                         TRUE    170\n",
            "               TRUE      FALSE    23\n",
            "                         TRUE     20\n"
          ],
          "name": "stdout"
        }
      ]
    },
    {
      "cell_type": "markdown",
      "metadata": {
        "id": "XiYTnlxWHLRp"
      },
      "source": [
        "##Using logistic regression to predict whether the grass is wet\n",
        "\n",
        "Prediction in R is always done in two steps. First, we fit a prediction model to a training dataset. For example, the below line fits a logistic regression model. Here `glm` stands for a generalized linear model, and we are using the binomial linkage function."
      ]
    },
    {
      "cell_type": "code",
      "metadata": {
        "id": "KB1qgyGYGB7j"
      },
      "source": [
        "m <- glm( WetGrass ~ Cloudy + Rain + Sprinkler, data=training.data, family=\"binomial\" )"
      ],
      "execution_count": 5,
      "outputs": []
    },
    {
      "cell_type": "markdown",
      "metadata": {
        "id": "3glgzTizHdCn"
      },
      "source": [
        "We can look at this model to get some information about the fit, such as the values of the coefficients."
      ]
    },
    {
      "cell_type": "code",
      "metadata": {
        "id": "SgIB4Bv3HbbU",
        "outputId": "7a5e30b0-11b7-43f1-a22e-7185894895dd",
        "colab": {
          "base_uri": "https://localhost:8080/",
          "height": 442
        }
      },
      "source": [
        "summary(m)"
      ],
      "execution_count": 6,
      "outputs": [
        {
          "output_type": "display_data",
          "data": {
            "text/plain": [
              "\n",
              "Call:\n",
              "glm(formula = WetGrass ~ Cloudy + Rain + Sprinkler, family = \"binomial\", \n",
              "    data = training.data)\n",
              "\n",
              "Deviance Residuals: \n",
              "    Min       1Q   Median       3Q      Max  \n",
              "-4.0067  -0.1380   0.4066   0.4066   3.0523  \n",
              "\n",
              "Coefficients:\n",
              "              Estimate Std. Error z value Pr(>|z|)    \n",
              "(Intercept)    -4.6488     0.7675  -6.057 1.39e-09 ***\n",
              "CloudyTRUE      0.9242     0.5614   1.646   0.0997 .  \n",
              "RainTRUE        6.1758     0.7759   7.960 1.73e-15 ***\n",
              "SprinklerTRUE   6.4995     0.8129   7.995 1.29e-15 ***\n",
              "---\n",
              "Signif. codes:  0 ‘***’ 0.001 ‘**’ 0.01 ‘*’ 0.05 ‘.’ 0.1 ‘ ’ 1\n",
              "\n",
              "(Dispersion parameter for binomial family taken to be 1)\n",
              "\n",
              "    Null deviance: 648.68  on 499  degrees of freedom\n",
              "Residual deviance: 223.23  on 496  degrees of freedom\n",
              "AIC: 231.23\n",
              "\n",
              "Number of Fisher Scoring iterations: 7\n"
            ]
          },
          "metadata": {
            "tags": []
          }
        }
      ]
    },
    {
      "cell_type": "code",
      "metadata": {
        "id": "7x9ZkuEsHe6P"
      },
      "source": [
        ""
      ],
      "execution_count": null,
      "outputs": []
    }
  ]
}